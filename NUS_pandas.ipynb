{
  "nbformat": 4,
  "nbformat_minor": 0,
  "metadata": {
    "colab": {
      "provenance": [],
      "authorship_tag": "ABX9TyPwh0P9eQnihgfUS1ENDoto",
      "include_colab_link": true
    },
    "kernelspec": {
      "name": "python3",
      "display_name": "Python 3"
    },
    "language_info": {
      "name": "python"
    }
  },
  "cells": [
    {
      "cell_type": "markdown",
      "metadata": {
        "id": "view-in-github",
        "colab_type": "text"
      },
      "source": [
        "<a href=\"https://colab.research.google.com/github/wereboss/GenAICourse/blob/main/NUS_pandas.ipynb\" target=\"_parent\"><img src=\"https://colab.research.google.com/assets/colab-badge.svg\" alt=\"Open In Colab\"/></a>"
      ]
    },
    {
      "cell_type": "code",
      "execution_count": null,
      "metadata": {
        "id": "N1sfHkrTdgm7"
      },
      "outputs": [],
      "source": [
        "import pandas as pd"
      ]
    },
    {
      "cell_type": "code",
      "source": [
        "# Series example​\n",
        "\n",
        "s = pd.Series([10, 20, 30],index=['a', 'b', 'c'])\n",
        "\n",
        "\n",
        "# Label-based indexing (Series)​\n",
        "\n",
        "print(\"Label-based indexing (Series):\")\n",
        "\n",
        "print(s['b'])   # Output: 20​"
      ],
      "metadata": {
        "colab": {
          "base_uri": "https://localhost:8080/"
        },
        "id": "AHq3Mb_Pd2Py",
        "outputId": "73c91148-45b4-43de-b8a2-1b6f0e7602e9"
      },
      "execution_count": null,
      "outputs": [
        {
          "output_type": "stream",
          "name": "stdout",
          "text": [
            "Label-based indexing (Series):\n",
            "20\n"
          ]
        }
      ]
    },
    {
      "cell_type": "code",
      "source": [
        "data = {'Name':['Alice','Bob','Charlie','Deacon'],'Age':[65,55,45,35],'City':['London','Rome','Milan','Paris']}\n",
        "data"
      ],
      "metadata": {
        "colab": {
          "base_uri": "https://localhost:8080/"
        },
        "id": "NHEFp475eRDF",
        "outputId": "fd4a6df8-243c-43af-8714-7b21d259932d"
      },
      "execution_count": null,
      "outputs": [
        {
          "output_type": "execute_result",
          "data": {
            "text/plain": [
              "{'Name': ['Alice', 'Bob', 'Charlie', 'Deacon'],\n",
              " 'Age': [65, 55, 45, 35],\n",
              " 'City': ['London', 'Rome', 'Milan', 'Paris']}"
            ]
          },
          "metadata": {},
          "execution_count": 18
        }
      ]
    },
    {
      "cell_type": "code",
      "source": [
        "df = pd.DataFrame(data)\n",
        "print('Label based indexing (database-Row)')\n",
        "print(df.loc[1])\n"
      ],
      "metadata": {
        "colab": {
          "base_uri": "https://localhost:8080/"
        },
        "id": "QSvflBKe2v2d",
        "outputId": "7152e9bf-e5dc-4a3c-c8f5-f8712436ca12"
      },
      "execution_count": null,
      "outputs": [
        {
          "output_type": "stream",
          "name": "stdout",
          "text": [
            "Label based indexing (database-Row)\n",
            "Name     Bob\n",
            "Age       55\n",
            "City    Rome\n",
            "Name: 1, dtype: object\n"
          ]
        }
      ]
    },
    {
      "cell_type": "code",
      "source": [
        "print('Label based indexing (database-Column)')\n",
        "print(df['Name'])"
      ],
      "metadata": {
        "colab": {
          "base_uri": "https://localhost:8080/"
        },
        "id": "SKHi2uMm3GBf",
        "outputId": "a6bce95f-11b1-4395-c173-68686b4be28a"
      },
      "execution_count": null,
      "outputs": [
        {
          "output_type": "stream",
          "name": "stdout",
          "text": [
            "Label based indexing (database-Column)\n",
            "0      Alice\n",
            "1        Bob\n",
            "2    Charlie\n",
            "3     Deacon\n",
            "Name: Name, dtype: object\n"
          ]
        }
      ]
    },
    {
      "cell_type": "code",
      "source": [
        "print(\"Integer-based indexing (Series):\")\n",
        "print(s[1])   # Output: 20​"
      ],
      "metadata": {
        "colab": {
          "base_uri": "https://localhost:8080/"
        },
        "id": "IsoKqi5u3Pvk",
        "outputId": "5e73d675-3f7e-4cf5-f1e9-2a571be91d9e"
      },
      "execution_count": null,
      "outputs": [
        {
          "output_type": "stream",
          "name": "stdout",
          "text": [
            "Integer-based indexing (Series):\n",
            "20\n"
          ]
        },
        {
          "output_type": "stream",
          "name": "stderr",
          "text": [
            "<ipython-input-21-2eb33e9dd8d2>:2: FutureWarning: Series.__getitem__ treating keys as positions is deprecated. In a future version, integer keys will always be treated as labels (consistent with DataFrame behavior). To access a value by position, use `ser.iloc[pos]`\n",
            "  print(s[1])   # Output: 20​\n"
          ]
        }
      ]
    },
    {
      "cell_type": "code",
      "source": [
        "print('Integer based indexing (database-Row)')\n",
        "print(df.iloc[1])"
      ],
      "metadata": {
        "colab": {
          "base_uri": "https://localhost:8080/"
        },
        "id": "XCWmlxdi3j6x",
        "outputId": "ab1878dd-2efc-4114-e7be-eedf4b104681"
      },
      "execution_count": null,
      "outputs": [
        {
          "output_type": "stream",
          "name": "stdout",
          "text": [
            "Integer based indexing (database-Row)\n",
            "Name     Bob\n",
            "Age       55\n",
            "City    Rome\n",
            "Name: 1, dtype: object\n"
          ]
        }
      ]
    },
    {
      "cell_type": "code",
      "source": [
        "print('Boolean based indexing (database-Row)')\n",
        "print(df[df['Age']>50]['City'])"
      ],
      "metadata": {
        "colab": {
          "base_uri": "https://localhost:8080/"
        },
        "id": "0juq5hz_HFqX",
        "outputId": "5f87c50b-b785-4475-9bee-c8e4cd5d3ceb"
      },
      "execution_count": null,
      "outputs": [
        {
          "output_type": "stream",
          "name": "stdout",
          "text": [
            "Boolean based indexing (database-Row)\n",
            "0    London\n",
            "1      Rome\n",
            "Name: City, dtype: object\n"
          ]
        }
      ]
    },
    {
      "cell_type": "code",
      "source": [
        "print('Complex based indexing (database-Row)')\n",
        "print(df[(df['Age']>50) & (df['City'] == 'Paris')])"
      ],
      "metadata": {
        "colab": {
          "base_uri": "https://localhost:8080/"
        },
        "id": "TI4TWw_eHdvj",
        "outputId": "44c68216-30ea-46a9-c782-789c5d303661"
      },
      "execution_count": null,
      "outputs": [
        {
          "output_type": "stream",
          "name": "stdout",
          "text": [
            "Complex based indexing (database-Row)\n",
            "Empty DataFrame\n",
            "Columns: [Name, Age, City]\n",
            "Index: []\n"
          ]
        }
      ]
    },
    {
      "cell_type": "code",
      "source": [
        "print('Sort values')\n",
        "print('Sort by age:',df.sort_values('Age'))\n",
        "print('Sort by Name:',df.sort_values('Name'))"
      ],
      "metadata": {
        "colab": {
          "base_uri": "https://localhost:8080/"
        },
        "id": "UKZg9SJYIp33",
        "outputId": "26011df3-91d3-437f-efd6-20c253e9164c"
      },
      "execution_count": null,
      "outputs": [
        {
          "output_type": "stream",
          "name": "stdout",
          "text": [
            "Sort values\n",
            "Sort by age:       Name  Age    City\n",
            "3   Deacon   35   Paris\n",
            "2  Charlie   45   Milan\n",
            "1      Bob   55    Rome\n",
            "0    Alice   65  London\n",
            "Sort by Name:       Name  Age    City\n",
            "0    Alice   65  London\n",
            "1      Bob   55    Rome\n",
            "2  Charlie   45   Milan\n",
            "3   Deacon   35   Paris\n"
          ]
        }
      ]
    },
    {
      "cell_type": "code",
      "source": [
        "df['Grade'] = ['B','C','A+','B-']\n",
        "print('after adding column:\\n',df)\n",
        "\n",
        "df['Senior'] = df['Age'] > 50\n",
        "print('after Add conditional column:\\n',df)\n",
        "\n",
        "df = df.drop('Grade',axis=1)\n",
        "print('after dropping Grade column:\\n',df)\n",
        "\n"
      ],
      "metadata": {
        "colab": {
          "base_uri": "https://localhost:8080/"
        },
        "id": "5XPaZQWQJUdX",
        "outputId": "5a62c3f9-53cc-41a2-9fca-6f67624325ca"
      },
      "execution_count": null,
      "outputs": [
        {
          "output_type": "stream",
          "name": "stdout",
          "text": [
            "after adding column:\n",
            "       Name  Age    City  Senior Grade\n",
            "0    Alice   65  London    True     B\n",
            "1      Bob   55    Rome    True     C\n",
            "2  Charlie   45   Milan   False    A+\n",
            "3   Deacon   35   Paris   False    B-\n",
            "after Add conditional column:\n",
            "       Name  Age    City  Senior Grade\n",
            "0    Alice   65  London    True     B\n",
            "1      Bob   55    Rome    True     C\n",
            "2  Charlie   45   Milan   False    A+\n",
            "3   Deacon   35   Paris   False    B-\n",
            "after dropping Grade column:\n",
            "       Name  Age    City  Senior\n",
            "0    Alice   65  London    True\n",
            "1      Bob   55    Rome    True\n",
            "2  Charlie   45   Milan   False\n",
            "3   Deacon   35   Paris   False\n"
          ]
        }
      ]
    },
    {
      "cell_type": "code",
      "source": [
        "import numpy as np\n",
        "data = {'Name':['Alice','Bob','Charlie','Deacon'],'Age':[65,np.nan,45,np.nan],'City':['London','Rome','Milan','Paris']}\n",
        "df = pd.DataFrame(data)\n",
        "\n",
        "print('recalibrated data:\\n',df)\n"
      ],
      "metadata": {
        "colab": {
          "base_uri": "https://localhost:8080/"
        },
        "id": "u8kMiyavLt_M",
        "outputId": "70e3a471-bb42-4707-fc24-bc6d2a4c3a88"
      },
      "execution_count": null,
      "outputs": [
        {
          "output_type": "stream",
          "name": "stdout",
          "text": [
            "recalibrated data:\n",
            "       Name   Age    City\n",
            "0    Alice  65.0  London\n",
            "1      Bob   NaN    Rome\n",
            "2  Charlie  45.0   Milan\n",
            "3   Deacon   NaN   Paris\n"
          ]
        }
      ]
    },
    {
      "cell_type": "code",
      "source": [
        "df_filled = df.fillna(-1)\n",
        "print('dataframe numeric filled with -i:\\n',df_filled)"
      ],
      "metadata": {
        "colab": {
          "base_uri": "https://localhost:8080/"
        },
        "id": "sLQ77MGAPaUX",
        "outputId": "33b7af88-42bb-42af-e3b0-e9a2aa71d5e2"
      },
      "execution_count": null,
      "outputs": [
        {
          "output_type": "stream",
          "name": "stdout",
          "text": [
            "dataframe numeric filled with -i:\n",
            "       Name   Age    City\n",
            "0    Alice  65.0  London\n",
            "1      Bob  -1.0    Rome\n",
            "2  Charlie  45.0   Milan\n",
            "3   Deacon  -1.0   Paris\n"
          ]
        }
      ]
    },
    {
      "cell_type": "code",
      "source": [
        "df_filled = df.fillna(df.mean(numeric_only=True))\n",
        "print('dataframe numeric filled with numeric mean:\\n',df_filled)"
      ],
      "metadata": {
        "colab": {
          "base_uri": "https://localhost:8080/"
        },
        "id": "zb5yvfJWPl43",
        "outputId": "a50375ca-841d-47ef-d145-bfa26cdbbe7c"
      },
      "execution_count": null,
      "outputs": [
        {
          "output_type": "stream",
          "name": "stdout",
          "text": [
            "dataframe numeric filled with numeric mean:\n",
            "       Name   Age    City\n",
            "0    Alice  65.0  London\n",
            "1      Bob  55.0    Rome\n",
            "2  Charlie  45.0   Milan\n",
            "3   Deacon  55.0   Paris\n"
          ]
        }
      ]
    },
    {
      "cell_type": "code",
      "source": [
        "df_filled = df.dropna()\n",
        "print('dataframe with NaN rows dropped:\\n',df_filled)"
      ],
      "metadata": {
        "colab": {
          "base_uri": "https://localhost:8080/"
        },
        "id": "TsfM1xmTQAIb",
        "outputId": "a7117f42-b3c2-4a70-c508-dbf944998030"
      },
      "execution_count": null,
      "outputs": [
        {
          "output_type": "stream",
          "name": "stdout",
          "text": [
            "dataframe with NaN rows dropped:\n",
            "       Name   Age    City\n",
            "0    Alice  65.0  London\n",
            "2  Charlie  45.0   Milan\n"
          ]
        }
      ]
    },
    {
      "cell_type": "code",
      "source": [
        "data = {'Name':['Alice','Bob','Alice','Deacon'],'Age':[65,65,65,np.nan],'City':['London','Rome','London','London']}\n",
        "df = pd.DataFrame(data)\n",
        "\n",
        "print('recalibrated data:\\n',df)\n"
      ],
      "metadata": {
        "colab": {
          "base_uri": "https://localhost:8080/"
        },
        "id": "nqVNPnBZQSIq",
        "outputId": "1e3cc46a-365d-40bc-c46e-87515af1e28a"
      },
      "execution_count": null,
      "outputs": [
        {
          "output_type": "stream",
          "name": "stdout",
          "text": [
            "recalibrated data:\n",
            "      Name   Age    City\n",
            "0   Alice  65.0  London\n",
            "1     Bob  65.0    Rome\n",
            "2   Alice  65.0  London\n",
            "3  Deacon   NaN  London\n"
          ]
        }
      ]
    },
    {
      "cell_type": "code",
      "source": [
        "df_nodup = df.drop_duplicates()\n",
        "print('dupes dropped data:\\n',df_nodup)\n",
        "\n",
        "df_nodup = df.drop_duplicates(subset=['City'])\n",
        "print('dupes dropped data:\\n',df_nodup)"
      ],
      "metadata": {
        "colab": {
          "base_uri": "https://localhost:8080/"
        },
        "id": "ylZjMA1oTDbv",
        "outputId": "3cd06a96-a55c-4659-fe5a-a2090a80192c"
      },
      "execution_count": null,
      "outputs": [
        {
          "output_type": "stream",
          "name": "stdout",
          "text": [
            "dupes dropped data:\n",
            "      Name   Age    City\n",
            "0   Alice  65.0  London\n",
            "1     Bob  65.0    Rome\n",
            "3  Deacon   NaN  London\n",
            "dupes dropped data:\n",
            "     Name   Age    City\n",
            "0  Alice  65.0  London\n",
            "1    Bob  65.0    Rome\n"
          ]
        }
      ]
    },
    {
      "cell_type": "code",
      "source": [],
      "metadata": {
        "id": "grilwFO7TcH0"
      },
      "execution_count": null,
      "outputs": []
    }
  ]
}